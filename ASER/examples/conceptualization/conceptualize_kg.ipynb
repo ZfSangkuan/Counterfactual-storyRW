{
 "cells": [
  {
   "cell_type": "code",
   "execution_count": 1,
   "metadata": {},
   "outputs": [],
   "source": [
    "import os\n",
    "import pickle\n",
    "import shutil\n",
    "import gc\n",
    "import bisect\n",
    "import copy\n",
    "import time\n",
    "from tqdm import tqdm\n",
    "from collections import defaultdict, Counter\n",
    "from aser.database.db_connection import SqliteDBConnection, MongoDBConnection\n",
    "from aser.database.kg_connection import ASERConceptConnection\n",
    "from aser.database.kg_connection import CHUNKSIZE\n",
    "from aser.database.kg_connection import EVENTUALITY_TABLE_NAME, EVENTUALITY_COLUMNS, EVENTUALITY_COLUMN_TYPES\n",
    "from aser.database.kg_connection import RELATION_TABLE_NAME, RELATION_COLUMNS, RELATION_COLUMN_TYPES\n",
    "from aser.conceptualize.aser_conceptualizer import ProbaseASERConceptualizer\n",
    "\n",
    "from aser.eventuality import Eventuality\n",
    "from aser.relation import Relation, relation_senses"
   ]
  },
  {
   "cell_type": "code",
   "execution_count": 7,
   "metadata": {},
   "outputs": [],
   "source": [
    "kg_path = \"/home/xliucr/ASER/database/core_2.0/all/KG.db\"\n",
    "\n",
    "kg_conn = SqliteDBConnection(kg_path, CHUNKSIZE)\n",
    "erows = []\n",
    "rrows = []\n",
    "\n",
    "efreqs = dict()\n",
    "for erow in kg_conn.get_columns(EVENTUALITY_TABLE_NAME, EVENTUALITY_COLUMNS):\n",
    "    efreqs[erow[\"_id\"]] = erow[\"frequency\"]\n",
    "    erows.append(erow)\n",
    "    \n",
    "rfreqs = dict()\n",
    "for rrow in kg_conn.get_columns(RELATION_TABLE_NAME, RELATION_COLUMNS):\n",
    "    rfreqs[rrow[\"_id\"]] = sum([rrow.get(r, 0.0) for r in relation_senses])\n",
    "    rrows.append(rrow)\n",
    "    \n",
    "kg_conn.close()"
   ]
  },
  {
   "cell_type": "code",
   "execution_count": 8,
   "metadata": {},
   "outputs": [
    {
     "data": {
      "text/plain": [
       "52296498"
      ]
     },
     "execution_count": 8,
     "metadata": {},
     "output_type": "execute_result"
    }
   ],
   "source": [
    "len(rfreqs)"
   ]
  },
  {
   "cell_type": "code",
   "execution_count": 2,
   "metadata": {},
   "outputs": [],
   "source": [
    "def convert_row_to_eventuality(row):\n",
    "    eventuality = Eventuality().decode(row[\"info\"])\n",
    "    eventuality.eid = row[\"_id\"]\n",
    "    eventuality.frequency = row[\"frequency\"]\n",
    "    eventuality.pattern = row[\"pattern\"]\n",
    "    return eventuality\n",
    "\n",
    "def convert_row_to_relation(row):\n",
    "    return Relation(row[\"hid\"], row[\"tid\"], {r: cnt for r, cnt in row.items() if isinstance(cnt, float) and cnt > 0.0})\n",
    "\n",
    "def build_concept_instance_table(aser_conceptualizer, erows):\n",
    "    cid2concept = dict()\n",
    "    concept_instance_pairs = []\n",
    "    cid_to_filter_score = dict()\n",
    "    for erow in tqdm(erows):\n",
    "        event = convert_row_to_eventuality(erow)\n",
    "        results = aser_conceptualizer.conceptualize(event)\n",
    "        for concept, score in results:\n",
    "            if concept.cid not in cid2concept:\n",
    "                cid2concept[concept.cid] = copy.copy(concept)\n",
    "            concept = cid2concept[concept.cid]\n",
    "            if (event.eid, event.pattern, score) not in concept.instances:\n",
    "                concept.instances.append(((event.eid, event.pattern, score)))\n",
    "                if concept.cid not in cid_to_filter_score:\n",
    "                    cid_to_filter_score[concept.cid] = 0.0\n",
    "                cid_to_filter_score[concept.cid] += score * event.frequency\n",
    "            concept_instance_pairs.append((concept, event, score))\n",
    "    return cid2concept, concept_instance_pairs, cid_to_filter_score\n",
    "\n",
    "def build_concept_relation_table(aser_concept_conn, rrows):\n",
    "    rid2relation = dict()\n",
    "    hid2related_events = defaultdict(list)\n",
    "    for rrow in rrows:\n",
    "        relation = convert_row_to_relation(rrow)\n",
    "        hid2related_events[rrow[\"hid\"]].append((rrow[\"tid\"], relation))\n",
    "        \n",
    "    for h_cid in tqdm(aser_concept_conn.cids):\n",
    "        instances = aser_concept_conn.get_eventualities_given_concept(h_cid)\n",
    "        for h_eid, pattern, instance_score in instances:\n",
    "            # eid -> event -> related eids -> related events, relations -> related concepts, relations\n",
    "            related_events = hid2related_events[h_eid]\n",
    "            for t_eid, relation in related_events:\n",
    "                concept_score_pairs = aser_concept_conn.get_concepts_given_eventuality(t_eid)\n",
    "                for t_concept, score in concept_score_pairs:\n",
    "                    t_cid = t_concept.cid\n",
    "                    if h_cid == t_cid:\n",
    "                        continue\n",
    "                    rid = Relation.generate_rid(h_cid, t_cid)\n",
    "                    if rid not in rid2relation:\n",
    "                        rid2relation[rid] = Relation(h_cid, t_cid)\n",
    "                    rid2relation[rid].update(\n",
    "                        {k: v * instance_score * score for k, v in relation.relations.items()})\n",
    "    return rid2relation"
   ]
  },
  {
   "cell_type": "code",
   "execution_count": 3,
   "metadata": {},
   "outputs": [
    {
     "name": "stdout",
     "output_type": "stream",
     "text": [
      "[probase-concept] Loading Probase files...\n",
      "[probase-concept] Building index...\n"
     ]
    },
    {
     "name": "stderr",
     "output_type": "stream",
     "text": [
      "100%|██████████| 33377320/33377320 [03:04<00:00, 180769.39it/s]\n"
     ]
    },
    {
     "name": "stdout",
     "output_type": "stream",
     "text": [
      "[probase-concept] Loading data finished in 198.48 s\n"
     ]
    }
   ],
   "source": [
    "aser_conceptualizer = ProbaseASERConceptualizer(\n",
    "    probase_path=\"/home/xliucr/probase/data-concept-instance-relations-demo.txt\",\n",
    "    probase_topk=5\n",
    ")"
   ]
  },
  {
   "cell_type": "code",
   "execution_count": null,
   "metadata": {},
   "outputs": [
    {
     "name": "stdout",
     "output_type": "stream",
     "text": [
      "threadshold 50\n",
      "\t# eventualities 342798972.0\n",
      "\t# unique eventualities 765366\n",
      "\t# relations 75931308.58750157\n",
      "\t# unique relations 14952353\n"
     ]
    },
    {
     "name": "stderr",
     "output_type": "stream",
     "text": [
      "100%|██████████| 765366/765366 [16:14<00:00, 785.41it/s] \n"
     ]
    },
    {
     "name": "stdout",
     "output_type": "stream",
     "text": [
      "\t# unique concepts 493341\n",
      "\t# unique concept-event relations 2137477\n"
     ]
    },
    {
     "name": "stderr",
     "output_type": "stream",
     "text": [
      "100%|██████████| 493341/493341 [12:21<00:00, 665.41it/s]   \n"
     ]
    },
    {
     "name": "stdout",
     "output_type": "stream",
     "text": [
      "\t# unique concept-concept relations 26903977\n",
      "\t 4155.465067863464\n",
      "threadshold 30\n",
      "\t# eventualities 366048173.0\n",
      "\t# unique eventualities 1384852\n",
      "\t# relations 83943931.2210394\n",
      "\t# unique relations 17317282\n"
     ]
    },
    {
     "name": "stderr",
     "output_type": "stream",
     "text": [
      "100%|██████████| 1384852/1384852 [33:14<00:00, 694.25it/s]  \n"
     ]
    },
    {
     "name": "stdout",
     "output_type": "stream",
     "text": [
      "\t# unique concepts 999173\n",
      "\t# unique concept-event relations 4177712\n"
     ]
    },
    {
     "name": "stderr",
     "output_type": "stream",
     "text": [
      "100%|██████████| 999173/999173 [15:42<00:00, 1060.14it/s]  \n"
     ]
    },
    {
     "name": "stdout",
     "output_type": "stream",
     "text": [
      "\t# unique concept-concept relations 35657024\n",
      "\t 6386.893039464951\n",
      "threadshold 20\n",
      "\t# eventualities 387674191.0\n",
      "\t# unique eventualities 2296550\n",
      "\t# relations 92131607.5083853\n",
      "\t# unique relations 19411914\n"
     ]
    },
    {
     "name": "stderr",
     "output_type": "stream",
     "text": [
      "100%|██████████| 2296550/2296550 [1:13:55<00:00, 517.80it/s]   \n"
     ]
    },
    {
     "name": "stdout",
     "output_type": "stream",
     "text": [
      "\t# unique concepts 1895173\n",
      "\t# unique concept-event relations 7445421\n"
     ]
    },
    {
     "name": "stderr",
     "output_type": "stream",
     "text": [
      "100%|██████████| 1895173/1895173 [19:57<00:00, 1582.71it/s] \n"
     ]
    },
    {
     "name": "stdout",
     "output_type": "stream",
     "text": [
      "\t# unique concept-concept relations 45070336\n",
      "\t 10522.566078662872\n",
      "threadshold 10\n",
      "\t# eventualities 430580143.0\n",
      "\t# unique eventualities 5547833\n",
      "\t# relations 109973223.77938814\n",
      "\t# unique relations 23759575\n"
     ]
    },
    {
     "name": "stderr",
     "output_type": "stream",
     "text": [
      "100%|██████████| 5547833/5547833 [4:39:43<00:00, 330.55it/s]    \n"
     ]
    },
    {
     "name": "stdout",
     "output_type": "stream",
     "text": [
      "\t# unique concepts 5470955\n",
      "\t# unique concept-event relations 20238811\n"
     ]
    },
    {
     "name": "stderr",
     "output_type": "stream",
     "text": [
      "100%|██████████| 5470955/5470955 [35:33<00:00, 2563.95it/s]   \n"
     ]
    },
    {
     "name": "stdout",
     "output_type": "stream",
     "text": [
      "\t# unique concept-concept relations 70836040\n",
      "\t 26441.35639357567\n",
      "threadshold 5\n",
      "\t# eventualities 483074809.0\n",
      "\t# unique eventualities 13766746\n",
      "\t# relations 134482973.44682288\n",
      "\t# unique relations 30309830\n"
     ]
    },
    {
     "name": "stderr",
     "output_type": "stream",
     "text": [
      "100%|██████████| 13766746/13766746 [21:41:23<00:00, 176.31it/s]    \n"
     ]
    },
    {
     "name": "stdout",
     "output_type": "stream",
     "text": [
      "\t# unique concepts 15640017\n",
      "\t# unique concept-event relations 56316417\n"
     ]
    },
    {
     "name": "stderr",
     "output_type": "stream",
     "text": [
      "100%|██████████| 15640017/15640017 [1:15:14<00:00, 3464.43it/s]  \n"
     ]
    },
    {
     "name": "stdout",
     "output_type": "stream",
     "text": [
      "\t# unique concept-concept relations 127825587\n"
     ]
    }
   ],
   "source": [
    "for threadshold in [50, 30, 20, 10, 5, 3]:\n",
    "    st = time.time()\n",
    "    print(\"threadshold\", threadshold)\n",
    "    new_erows = list(filter(lambda erow: erow[\"frequency\"] >= threadshold, erows))\n",
    "    new_eids = set([erow[\"_id\"] for erow in new_erows])\n",
    "    new_rrows = list(filter(lambda rrow: rrow[\"hid\"] in new_eids and rrow[\"tid\"] in new_eids, rrows))\n",
    "    print(\"\\t# eventualities\", sum([erow[\"frequency\"] for erow in new_erows]))\n",
    "    print(\"\\t# unique eventualities\", len(new_erows))\n",
    "    print(\"\\t# relations\", sum([rfreqs[rrow[\"_id\"]] for rrow in new_rrows]))\n",
    "    print(\"\\t# unique relations\", len(new_rrows))\n",
    "    \n",
    "    if not os.path.exists(\"/home/xliucr/ASER/database/core_2.0/%d/KG.db\" % (threadshold)):\n",
    "        new_kg_conn = SqliteDBConnection(\"/home/xliucr/ASER/database/core_2.0/%d/KG.db\" % (threadshold), CHUNKSIZE)\n",
    "        for table_name, columns, column_types in zip(\n",
    "            [EVENTUALITY_TABLE_NAME, RELATION_TABLE_NAME],\n",
    "            [EVENTUALITY_COLUMNS, RELATION_COLUMNS],\n",
    "            [EVENTUALITY_COLUMN_TYPES, RELATION_COLUMN_TYPES]):\n",
    "            if len(columns) == 0 or len(column_types) == 0:\n",
    "                raise NotImplementedError(\"Error: %s_columns and %s_column_types must be defined\" % (table_name, table_name))\n",
    "            try:\n",
    "                new_kg_conn.create_table(table_name, columns, column_types)\n",
    "            except BaseException as e:\n",
    "                print(e)\n",
    "        new_kg_conn.insert_rows(EVENTUALITY_TABLE_NAME, new_erows)\n",
    "        new_kg_conn.insert_rows(RELATION_TABLE_NAME, new_rrows)\n",
    "        new_kg_conn.close()\n",
    "    \n",
    "    cid2concept, concept_instance_pairs, cid_to_filter_score = \\\n",
    "        build_concept_instance_table(aser_conceptualizer, new_erows)\n",
    "    print(\"\\t# unique concepts\", len(cid2concept))\n",
    "    print(\"\\t# unique concept-event relations\", len(concept_instance_pairs))\n",
    "    \n",
    "    concept_conn = ASERConceptConnection(\"/home/xliucr/ASER/database/core_2.0/%d/concept.db\" % (threadshold), mode=\"memory\")\n",
    "    \n",
    "    with open(\"/home/xliucr/ASER/database/core_2.0/%d/concept_cids.txt\" % (threadshold), \"w\") as f:\n",
    "        for cid, filter_score in cid_to_filter_score.items():\n",
    "            f.write(cid + \"\\t\" + \"{:.2f}\".format(filter_score) + \"\\n\")\n",
    "    concept_conn.insert_concepts(list(cid2concept.values()))\n",
    "    concept_conn.insert_concept_instance_pairs(concept_instance_pairs)\n",
    "    \n",
    "    rid2relation = build_concept_relation_table(concept_conn, new_rrows)\n",
    "    print(\"\\t# unique concept-concept relations\", len(rid2relation))\n",
    "    \n",
    "    with open(\"/home/xliucr/ASER/database/core_2.0/%d/concept_rids.txt\" % (threadshold), \"w\") as f:\n",
    "        for rid, relation in rid2relation.items():\n",
    "            filter_score = sum(relation.relations.values())\n",
    "            f.write(rid + \"\\t\" + \"{:.2f}\".format(filter_score) + \"\\n\")\n",
    "    concept_conn.insert_relations(rid2relation.values())\n",
    "    concept_conn.close()\n",
    "    \n",
    "    print(\"\\t\", time.time()-st)\n",
    "    del new_erows\n",
    "    del new_rrows\n",
    "    del new_eids\n",
    "    del cid2concept\n",
    "    del concept_instance_pairs\n",
    "    del cid_to_filter_score\n",
    "    del rid2relation\n",
    "    gc.collect()"
   ]
  },
  {
   "cell_type": "code",
   "execution_count": null,
   "metadata": {},
   "outputs": [],
   "source": []
  },
  {
   "cell_type": "code",
   "execution_count": null,
   "metadata": {},
   "outputs": [],
   "source": []
  }
 ],
 "metadata": {
  "kernelspec": {
   "display_name": "Python 3",
   "language": "python",
   "name": "python3"
  },
  "language_info": {
   "codemirror_mode": {
    "name": "ipython",
    "version": 3
   },
   "file_extension": ".py",
   "mimetype": "text/x-python",
   "name": "python",
   "nbconvert_exporter": "python",
   "pygments_lexer": "ipython3",
   "version": "3.6.9"
  }
 },
 "nbformat": 4,
 "nbformat_minor": 4
}