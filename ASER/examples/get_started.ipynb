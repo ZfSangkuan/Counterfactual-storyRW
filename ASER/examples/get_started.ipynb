{
 "cells": [
  {
   "cell_type": "markdown",
   "metadata": {},
   "source": [
    "# ASER Tutorials"
   ]
  },
  {
   "cell_type": "markdown",
   "metadata": {},
   "source": [
    "## Installation"
   ]
  },
  {
   "cell_type": "markdown",
   "metadata": {},
   "source": [
    "Firstly, install the necessay packages"
   ]
  },
  {
   "cell_type": "code",
   "execution_count": 1,
   "metadata": {},
   "outputs": [
    {
     "name": "stdout",
     "output_type": "stream",
     "text": [
      "Looking in indexes: http://mirrors.aliyun.com/pypi/simple/\n",
      "Requirement already satisfied: flask in /Users/sean/miniconda3/envs/pytorch/lib/python3.6/site-packages/Flask-1.1.2-py3.6.egg (from -r requirements.txt (line 1)) (1.1.2)\n",
      "Requirement already satisfied: pandas in /Users/sean/miniconda3/envs/pytorch/lib/python3.6/site-packages (from -r requirements.txt (line 2)) (1.1.5)\n",
      "Requirement already satisfied: stanfordnlp in /Users/sean/miniconda3/envs/pytorch/lib/python3.6/site-packages/stanfordnlp-0.2.0-py3.6.egg (from -r requirements.txt (line 3)) (0.2.0)\n",
      "Requirement already satisfied: tqdm in /Users/sean/miniconda3/envs/pytorch/lib/python3.6/site-packages (from -r requirements.txt (line 4)) (4.59.0)\n",
      "Requirement already satisfied: zmq in /Users/sean/miniconda3/envs/pytorch/lib/python3.6/site-packages/zmq-0.0.0-py3.6.egg (from -r requirements.txt (line 5)) (0.0.0)\n",
      "Requirement already satisfied: ete3 in /Users/sean/miniconda3/envs/pytorch/lib/python3.6/site-packages/ete3-3.1.2-py3.6.egg (from -r requirements.txt (line 6)) (3.1.2)\n",
      "Requirement already satisfied: scikit-learn in /Users/sean/miniconda3/envs/pytorch/lib/python3.6/site-packages (from -r requirements.txt (line 7)) (0.22.2)\n",
      "Requirement already satisfied: ujson in /Users/sean/miniconda3/envs/pytorch/lib/python3.6/site-packages (from -r requirements.txt (line 8)) (4.0.2)\n",
      "Requirement already satisfied: Jinja2>=2.10.1 in /Users/sean/miniconda3/envs/pytorch/lib/python3.6/site-packages (from flask->-r requirements.txt (line 1)) (2.11.3)\n",
      "Requirement already satisfied: Werkzeug>=0.15 in /Users/sean/miniconda3/envs/pytorch/lib/python3.6/site-packages/Werkzeug-2.0.0rc3-py3.6.egg (from flask->-r requirements.txt (line 1)) (2.0.0rc3)\n",
      "Requirement already satisfied: click>=5.1 in /Users/sean/miniconda3/envs/pytorch/lib/python3.6/site-packages (from flask->-r requirements.txt (line 1)) (7.1.2)\n",
      "Requirement already satisfied: itsdangerous>=0.24 in /Users/sean/miniconda3/envs/pytorch/lib/python3.6/site-packages/itsdangerous-2.0.0rc1-py3.6.egg (from flask->-r requirements.txt (line 1)) (2.0.0rc1)\n",
      "Requirement already satisfied: MarkupSafe>=0.23 in /Users/sean/miniconda3/envs/pytorch/lib/python3.6/site-packages (from Jinja2>=2.10.1->flask->-r requirements.txt (line 1)) (1.1.1)\n",
      "Requirement already satisfied: dataclasses in /Users/sean/miniconda3/envs/pytorch/lib/python3.6/site-packages (from Werkzeug>=0.15->flask->-r requirements.txt (line 1)) (0.8)\n",
      "Requirement already satisfied: python-dateutil>=2.7.3 in /Users/sean/miniconda3/envs/pytorch/lib/python3.6/site-packages (from pandas->-r requirements.txt (line 2)) (2.8.1)\n",
      "Requirement already satisfied: pytz>=2017.2 in /Users/sean/miniconda3/envs/pytorch/lib/python3.6/site-packages (from pandas->-r requirements.txt (line 2)) (2021.1)\n",
      "Requirement already satisfied: numpy>=1.15.4 in /Users/sean/miniconda3/envs/pytorch/lib/python3.6/site-packages (from pandas->-r requirements.txt (line 2)) (1.19.5)\n",
      "Requirement already satisfied: six>=1.5 in /Users/sean/miniconda3/envs/pytorch/lib/python3.6/site-packages (from python-dateutil>=2.7.3->pandas->-r requirements.txt (line 2)) (1.15.0)\n",
      "Requirement already satisfied: joblib>=0.11 in /Users/sean/miniconda3/envs/pytorch/lib/python3.6/site-packages (from scikit-learn->-r requirements.txt (line 7)) (1.0.1)\n",
      "Requirement already satisfied: scipy>=0.17.0 in /Users/sean/miniconda3/envs/pytorch/lib/python3.6/site-packages (from scikit-learn->-r requirements.txt (line 7)) (1.5.3)\n",
      "Requirement already satisfied: protobuf in /Users/sean/miniconda3/envs/pytorch/lib/python3.6/site-packages (from stanfordnlp->-r requirements.txt (line 3)) (3.15.6)\n",
      "Requirement already satisfied: requests in /Users/sean/miniconda3/envs/pytorch/lib/python3.6/site-packages (from stanfordnlp->-r requirements.txt (line 3)) (2.25.1)\n",
      "Requirement already satisfied: torch>=1.0.0 in /Users/sean/miniconda3/envs/pytorch/lib/python3.6/site-packages (from stanfordnlp->-r requirements.txt (line 3)) (1.7.1)\n",
      "Requirement already satisfied: typing-extensions in /Users/sean/miniconda3/envs/pytorch/lib/python3.6/site-packages (from torch>=1.0.0->stanfordnlp->-r requirements.txt (line 3)) (3.7.4.3)\n",
      "Requirement already satisfied: pyzmq in /Users/sean/miniconda3/envs/pytorch/lib/python3.6/site-packages (from zmq->-r requirements.txt (line 5)) (22.0.3)\n",
      "Requirement already satisfied: certifi>=2017.4.17 in /Users/sean/miniconda3/envs/pytorch/lib/python3.6/site-packages (from requests->stanfordnlp->-r requirements.txt (line 3)) (2020.12.5)\n",
      "Requirement already satisfied: urllib3<1.27,>=1.21.1 in /Users/sean/miniconda3/envs/pytorch/lib/python3.6/site-packages (from requests->stanfordnlp->-r requirements.txt (line 3)) (1.26.3)\n",
      "Requirement already satisfied: chardet<5,>=3.0.2 in /Users/sean/miniconda3/envs/pytorch/lib/python3.6/site-packages (from requests->stanfordnlp->-r requirements.txt (line 3)) (4.0.0)\n",
      "Requirement already satisfied: idna<3,>=2.5 in /Users/sean/miniconda3/envs/pytorch/lib/python3.6/site-packages (from requests->stanfordnlp->-r requirements.txt (line 3)) (2.10)\n"
     ]
    }
   ],
   "source": [
    "!pip install -r requirements.txt "
   ]
  },
  {
   "cell_type": "markdown",
   "metadata": {},
   "source": [
    "Then, install the aser package."
   ]
  },
  {
   "cell_type": "code",
   "execution_count": 3,
   "metadata": {},
   "outputs": [
    {
     "name": "stdout",
     "output_type": "stream",
     "text": [
      "running install\n",
      "running bdist_egg\n",
      "running egg_info\n",
      "writing aser.egg-info/PKG-INFO\n",
      "writing dependency_links to aser.egg-info/dependency_links.txt\n",
      "writing entry points to aser.egg-info/entry_points.txt\n",
      "writing requirements to aser.egg-info/requires.txt\n",
      "writing top-level names to aser.egg-info/top_level.txt\n",
      "reading manifest file 'aser.egg-info/SOURCES.txt'\n",
      "writing manifest file 'aser.egg-info/SOURCES.txt'\n",
      "installing library code to build/bdist.macosx-10.9-x86_64/egg\n",
      "running install_lib\n",
      "warning: install_lib: 'build/lib' does not exist -- no Python modules to install\n",
      "\n",
      "creating build\n",
      "creating build/bdist.macosx-10.9-x86_64\n",
      "creating build/bdist.macosx-10.9-x86_64/egg\n",
      "creating build/bdist.macosx-10.9-x86_64/egg/EGG-INFO\n",
      "copying aser.egg-info/PKG-INFO -> build/bdist.macosx-10.9-x86_64/egg/EGG-INFO\n",
      "copying aser.egg-info/SOURCES.txt -> build/bdist.macosx-10.9-x86_64/egg/EGG-INFO\n",
      "copying aser.egg-info/dependency_links.txt -> build/bdist.macosx-10.9-x86_64/egg/EGG-INFO\n",
      "copying aser.egg-info/entry_points.txt -> build/bdist.macosx-10.9-x86_64/egg/EGG-INFO\n",
      "copying aser.egg-info/requires.txt -> build/bdist.macosx-10.9-x86_64/egg/EGG-INFO\n",
      "copying aser.egg-info/top_level.txt -> build/bdist.macosx-10.9-x86_64/egg/EGG-INFO\n",
      "zip_safe flag not set; analyzing archive contents...\n",
      "creating dist\n",
      "creating 'dist/aser-2.0.0-py3.6.egg' and adding 'build/bdist.macosx-10.9-x86_64/egg' to it\n",
      "removing 'build/bdist.macosx-10.9-x86_64/egg' (and everything under it)\n",
      "Processing aser-2.0.0-py3.6.egg\n",
      "Copying aser-2.0.0-py3.6.egg to /Users/sean/miniconda3/envs/pytorch/lib/python3.6/site-packages\n",
      "Removing aser 2.0.0 from easy-install.pth file\n",
      "Adding aser 2.0.0 to easy-install.pth file\n",
      "Installing aser-pipe script to /Users/sean/miniconda3/envs/pytorch/bin\n",
      "Installing aser-server script to /Users/sean/miniconda3/envs/pytorch/bin\n",
      "\n",
      "Installed /Users/sean/miniconda3/envs/pytorch/lib/python3.6/site-packages/aser-2.0.0-py3.6.egg\n",
      "Processing dependencies for aser==2.0.0\n",
      "Searching for ujson==4.0.2\n",
      "Best match: ujson 4.0.2\n",
      "Adding ujson 4.0.2 to easy-install.pth file\n",
      "\n",
      "Using /Users/sean/miniconda3/envs/pytorch/lib/python3.6/site-packages\n",
      "Searching for scikit-learn==0.22.2\n",
      "Best match: scikit-learn 0.22.2\n",
      "Adding scikit-learn 0.22.2 to easy-install.pth file\n",
      "\n",
      "Using /Users/sean/miniconda3/envs/pytorch/lib/python3.6/site-packages\n",
      "Searching for ete3==3.1.2\n",
      "Best match: ete3 3.1.2\n",
      "Processing ete3-3.1.2-py3.6.egg\n",
      "ete3 3.1.2 is already the active version in easy-install.pth\n",
      "Installing ete3 script to /Users/sean/miniconda3/envs/pytorch/bin\n",
      "\n",
      "Using /Users/sean/miniconda3/envs/pytorch/lib/python3.6/site-packages/ete3-3.1.2-py3.6.egg\n",
      "Searching for zmq==0.0.0\n",
      "Best match: zmq 0.0.0\n",
      "Processing zmq-0.0.0-py3.6.egg\n",
      "zmq 0.0.0 is already the active version in easy-install.pth\n",
      "\n",
      "Using /Users/sean/miniconda3/envs/pytorch/lib/python3.6/site-packages/zmq-0.0.0-py3.6.egg\n",
      "Searching for tqdm==4.59.0\n",
      "Best match: tqdm 4.59.0\n",
      "Adding tqdm 4.59.0 to easy-install.pth file\n",
      "Installing tqdm script to /Users/sean/miniconda3/envs/pytorch/bin\n",
      "\n",
      "Using /Users/sean/miniconda3/envs/pytorch/lib/python3.6/site-packages\n",
      "Searching for stanfordnlp==0.2.0\n",
      "Best match: stanfordnlp 0.2.0\n",
      "Processing stanfordnlp-0.2.0-py3.6.egg\n",
      "stanfordnlp 0.2.0 is already the active version in easy-install.pth\n",
      "\n",
      "Using /Users/sean/miniconda3/envs/pytorch/lib/python3.6/site-packages/stanfordnlp-0.2.0-py3.6.egg\n",
      "Searching for pandas==1.1.5\n",
      "Best match: pandas 1.1.5\n",
      "Adding pandas 1.1.5 to easy-install.pth file\n",
      "\n",
      "Using /Users/sean/miniconda3/envs/pytorch/lib/python3.6/site-packages\n",
      "Searching for Flask==1.1.2\n",
      "Best match: Flask 1.1.2\n",
      "Processing Flask-1.1.2-py3.6.egg\n",
      "Flask 1.1.2 is already the active version in easy-install.pth\n",
      "Installing flask script to /Users/sean/miniconda3/envs/pytorch/bin\n",
      "\n",
      "Using /Users/sean/miniconda3/envs/pytorch/lib/python3.6/site-packages/Flask-1.1.2-py3.6.egg\n",
      "Searching for joblib==1.0.1\n",
      "Best match: joblib 1.0.1\n",
      "Adding joblib 1.0.1 to easy-install.pth file\n",
      "\n",
      "Using /Users/sean/miniconda3/envs/pytorch/lib/python3.6/site-packages\n",
      "Searching for numpy==1.19.5\n",
      "Best match: numpy 1.19.5\n",
      "Adding numpy 1.19.5 to easy-install.pth file\n",
      "Installing f2py script to /Users/sean/miniconda3/envs/pytorch/bin\n",
      "Installing f2py3 script to /Users/sean/miniconda3/envs/pytorch/bin\n",
      "Installing f2py3.6 script to /Users/sean/miniconda3/envs/pytorch/bin\n",
      "\n",
      "Using /Users/sean/miniconda3/envs/pytorch/lib/python3.6/site-packages\n",
      "Searching for scipy==1.5.3\n",
      "Best match: scipy 1.5.3\n",
      "Adding scipy 1.5.3 to easy-install.pth file\n",
      "\n",
      "Using /Users/sean/miniconda3/envs/pytorch/lib/python3.6/site-packages\n",
      "Searching for pyzmq==22.0.3\n",
      "Best match: pyzmq 22.0.3\n",
      "Adding pyzmq 22.0.3 to easy-install.pth file\n",
      "\n",
      "Using /Users/sean/miniconda3/envs/pytorch/lib/python3.6/site-packages\n",
      "Searching for torch==1.7.1\n",
      "Best match: torch 1.7.1\n",
      "Adding torch 1.7.1 to easy-install.pth file\n",
      "Installing convert-caffe2-to-onnx script to /Users/sean/miniconda3/envs/pytorch/bin\n",
      "Installing convert-onnx-to-caffe2 script to /Users/sean/miniconda3/envs/pytorch/bin\n",
      "\n",
      "Using /Users/sean/miniconda3/envs/pytorch/lib/python3.6/site-packages\n",
      "Searching for requests==2.25.1\n",
      "Best match: requests 2.25.1\n",
      "Adding requests 2.25.1 to easy-install.pth file\n",
      "\n",
      "Using /Users/sean/miniconda3/envs/pytorch/lib/python3.6/site-packages\n",
      "Searching for protobuf==3.15.6\n",
      "Best match: protobuf 3.15.6\n",
      "Adding protobuf 3.15.6 to easy-install.pth file\n",
      "\n",
      "Using /Users/sean/miniconda3/envs/pytorch/lib/python3.6/site-packages\n",
      "Searching for pytz==2021.1\n",
      "Best match: pytz 2021.1\n",
      "Adding pytz 2021.1 to easy-install.pth file\n",
      "\n",
      "Using /Users/sean/miniconda3/envs/pytorch/lib/python3.6/site-packages\n",
      "Searching for python-dateutil==2.8.1\n",
      "Best match: python-dateutil 2.8.1\n",
      "Adding python-dateutil 2.8.1 to easy-install.pth file\n",
      "\n",
      "Using /Users/sean/miniconda3/envs/pytorch/lib/python3.6/site-packages\n",
      "Searching for itsdangerous==2.0.0rc1\n",
      "Best match: itsdangerous 2.0.0rc1\n",
      "Processing itsdangerous-2.0.0rc1-py3.6.egg\n",
      "itsdangerous 2.0.0rc1 is already the active version in easy-install.pth\n",
      "\n",
      "Using /Users/sean/miniconda3/envs/pytorch/lib/python3.6/site-packages/itsdangerous-2.0.0rc1-py3.6.egg\n",
      "Searching for click==7.1.2\n",
      "Best match: click 7.1.2\n",
      "Adding click 7.1.2 to easy-install.pth file\n",
      "\n",
      "Using /Users/sean/miniconda3/envs/pytorch/lib/python3.6/site-packages\n",
      "Searching for Werkzeug==2.0.0rc3\n",
      "Best match: Werkzeug 2.0.0rc3\n",
      "Processing Werkzeug-2.0.0rc3-py3.6.egg\n",
      "Werkzeug 2.0.0rc3 is already the active version in easy-install.pth\n",
      "\n",
      "Using /Users/sean/miniconda3/envs/pytorch/lib/python3.6/site-packages/Werkzeug-2.0.0rc3-py3.6.egg\n",
      "Searching for Jinja2==2.11.3\n",
      "Best match: Jinja2 2.11.3\n",
      "Adding Jinja2 2.11.3 to easy-install.pth file\n",
      "\n",
      "Using /Users/sean/miniconda3/envs/pytorch/lib/python3.6/site-packages\n",
      "Searching for typing-extensions==3.7.4.3\n",
      "Best match: typing-extensions 3.7.4.3\n",
      "Adding typing-extensions 3.7.4.3 to easy-install.pth file\n",
      "\n",
      "Using /Users/sean/miniconda3/envs/pytorch/lib/python3.6/site-packages\n",
      "Searching for dataclasses==0.8\n",
      "Best match: dataclasses 0.8\n",
      "Adding dataclasses 0.8 to easy-install.pth file\n",
      "\n",
      "Using /Users/sean/miniconda3/envs/pytorch/lib/python3.6/site-packages\n",
      "Searching for certifi==2020.12.5\n",
      "Best match: certifi 2020.12.5\n",
      "Adding certifi 2020.12.5 to easy-install.pth file\n",
      "\n",
      "Using /Users/sean/miniconda3/envs/pytorch/lib/python3.6/site-packages\n",
      "Searching for urllib3==1.26.3\n",
      "Best match: urllib3 1.26.3\n",
      "Adding urllib3 1.26.3 to easy-install.pth file\n",
      "\n",
      "Using /Users/sean/miniconda3/envs/pytorch/lib/python3.6/site-packages\n",
      "Searching for idna==2.10\n",
      "Best match: idna 2.10\n",
      "Adding idna 2.10 to easy-install.pth file\n",
      "\n",
      "Using /Users/sean/miniconda3/envs/pytorch/lib/python3.6/site-packages\n",
      "Searching for chardet==4.0.0\n",
      "Best match: chardet 4.0.0\n",
      "Adding chardet 4.0.0 to easy-install.pth file\n",
      "Installing chardetect script to /Users/sean/miniconda3/envs/pytorch/bin\n",
      "\n",
      "Using /Users/sean/miniconda3/envs/pytorch/lib/python3.6/site-packages\n",
      "Searching for six==1.15.0\n",
      "Best match: six 1.15.0\n",
      "Adding six 1.15.0 to easy-install.pth file\n",
      "\n",
      "Using /Users/sean/miniconda3/envs/pytorch/lib/python3.6/site-packages\n",
      "Searching for MarkupSafe==1.1.1\n",
      "Best match: MarkupSafe 1.1.1\n",
      "Adding MarkupSafe 1.1.1 to easy-install.pth file\n",
      "\n",
      "Using /Users/sean/miniconda3/envs/pytorch/lib/python3.6/site-packages\n",
      "Finished processing dependencies for aser==2.0.0\n"
     ]
    }
   ],
   "source": [
    "!python setup.py install"
   ]
  },
  {
   "cell_type": "markdown",
   "metadata": {},
   "source": [
    "We also need to download some packages and files."
   ]
  },
  {
   "cell_type": "markdown",
   "metadata": {},
   "source": [
    "We use the standford-corenlp to parse raw data.\n",
    "As there is some little difference of parsed results since v4.0.0, we still use v3.9.2, which is the version released on 2018-10-05."
   ]
  },
  {
   "cell_type": "code",
   "execution_count": 9,
   "metadata": {},
   "outputs": [
    {
     "data": {
      "text/plain": [
       "('stanford-corenlp-3.9.2.zip', <http.client.HTTPMessage at 0x7fa031289a58>)"
      ]
     },
     "execution_count": 9,
     "metadata": {},
     "output_type": "execute_result"
    }
   ],
   "source": [
    "import urllib\n",
    "\n",
    "urllib.request.urlretrieve(\"http://nlp.stanford.edu/software/stanford-corenlp-full-2018-10-05.zip\", \"stanford-corenlp-3.9.2.zip\")"
   ]
  },
  {
   "cell_type": "code",
   "execution_count": 11,
   "metadata": {},
   "outputs": [],
   "source": [
    "import zipfile\n",
    "\n",
    "with zipfile.ZipFile(\"stanford-corenlp-3.9.2.zip\", \"r\") as zip_ref:\n",
    "    zip_ref.extractall(\"./\")"
   ]
  },
  {
   "cell_type": "code",
   "execution_count": 13,
   "metadata": {},
   "outputs": [
    {
     "data": {
      "text/plain": [
       "'stanford-corenlp-3.9.2'"
      ]
     },
     "execution_count": 13,
     "metadata": {},
     "output_type": "execute_result"
    }
   ],
   "source": [
    "import shutil\n",
    "\n",
    "shutil.move(\"stanford-corenlp-full-2018-10-05\", \"stanford-corenlp-3.9.2\")"
   ]
  },
  {
   "cell_type": "markdown",
   "metadata": {},
   "source": [
    "Also, we use the probase for conceptualization."
   ]
  },
  {
   "cell_type": "code",
   "execution_count": 16,
   "metadata": {},
   "outputs": [
    {
     "data": {
      "text/plain": [
       "('probase.zip', <http.client.HTTPMessage at 0x7fa032921438>)"
      ]
     },
     "execution_count": 16,
     "metadata": {},
     "output_type": "execute_result"
    }
   ],
   "source": [
    "import urllib\n",
    "\n",
    "urllib.request.urlretrieve(\"https://concept.research.microsoft.com/Home/DownloadData?key=t9RdYhnkv94TFcd8tkVdzF9cEwNFdaFe&h=602979237\", \"probase.zip\")"
   ]
  },
  {
   "cell_type": "code",
   "execution_count": 19,
   "metadata": {},
   "outputs": [],
   "source": [
    "import zipfile\n",
    "\n",
    "with zipfile.ZipFile(\"probase.zip\", \"r\") as zip_ref:\n",
    "    zip_ref.extractall(\"./\")"
   ]
  },
  {
   "cell_type": "code",
   "execution_count": 20,
   "metadata": {
    "scrolled": true
   },
   "outputs": [
    {
     "data": {
      "text/plain": [
       "'probase.txt'"
      ]
     },
     "execution_count": 20,
     "metadata": {},
     "output_type": "execute_result"
    }
   ],
   "source": [
    "import shutil\n",
    "\n",
    "shutil.move(\"data-concept/data-concept-instance-relations.txt\", \"probase.txt\")\n",
    "shutil.rmtree(\"data-concept\")"
   ]
  },
  {
   "cell_type": "code",
   "execution_count": null,
   "metadata": {},
   "outputs": [],
   "source": []
  },
  {
   "cell_type": "markdown",
   "metadata": {},
   "source": [
    "## Local Pipeline: aser-pipe"
   ]
  },
  {
   "cell_type": "markdown",
   "metadata": {},
   "source": [
    "There are three ways to extract eventuality commonsense knowledge:\n",
    "1. run the ASER pipeline by `aser-pipe`;\n",
    "2. utilize `ASERExtractor` and `ASERConceptualizer`;\n",
    "3. use `ASERServer` and ASERClient."
   ]
  },
  {
   "cell_type": "markdown",
   "metadata": {},
   "source": [
    "### 1. ASER Pipeline"
   ]
  },
  {
   "cell_type": "markdown",
   "metadata": {},
   "source": [
    "We write three reviews from yelp into a file and want to run the pipepline to build `KG.db` and `concept.db`."
   ]
  },
  {
   "cell_type": "code",
   "execution_count": 17,
   "metadata": {},
   "outputs": [],
   "source": [
    "import os\n",
    "\n",
    "os.mkdir(\"raw\")\n",
    "os.mkdir(\"processed\")\n",
    "os.mkdir(\"core\")\n",
    "os.mkdir(\"full\")\n",
    "os.mkdir(\"concept\")"
   ]
  },
  {
   "cell_type": "code",
   "execution_count": 18,
   "metadata": {},
   "outputs": [],
   "source": [
    "with open(\"raw/yelp.txt\", \"w\") as f:\n",
    "    f.write(\"I went there based on reviews on yelp. I was not let down! I got the wild mushroom personal pie and added spinach and fresh jalapenos on the ancient grains crust. It was amazing. The crust was perfectly cooked and all the toppings meshed well together. They have many vegan options(daiya cheese). The owner and the other employee there were very nice and friendly. I will definitely be going back next time I am in town.\")\n",
    "    f.write(\"\\n\\n\")\n",
    "    f.write(\"My experience at this kneaders location was great! I wasn't there during a busy time, about 3:45, but they were very attentive. I placed my to go order and it was ready within 10 minutes. I will definitely be back!\")\n",
    "    f.write(\"\\n\\n\")\n",
    "    f.write(\"I came here for breakfast before a conference, I was excited to try some local breakfast places. I think the highlight of my breakfast was the freshly squeezed orange juice: it was very sweet, natural, and definitely the champion of the day. I ordered the local fresh eggs on ciabatta with the house made sausage. I would have given a four if the bread had been toasted, but it wasnt. The sausage had good flavor, but I would have liked a little salt on my eggs. All in all a good breakfast. If I am back in town I would try the pastries, they looked and smelled amazing.\")\n",
    "    f.write(\"\\n\\n\")\n",
    "    "
   ]
  },
  {
   "cell_type": "code",
   "execution_count": null,
   "metadata": {},
   "outputs": [],
   "source": [
    "!aser-pipe -n_extractors 1 -n_workers 1 \\\n",
    "-corenlp_path \"stanford-corenlp-3.9.2\" -base_corenlp_port 9000 \\\n",
    "-raw_dir \"raw\" -processed_dir \"processed\" \\\n",
    "-core_kg_dir \"core\" -full_kg_dir \"full\" \\\n",
    "-eventuality_frequency_threshold 0 -relation_weight_threshold 0 \\\n",
    "-concept_kg_dir \"concept\" -concept_method probase -probase_path \"probase.txt\" \\\n",
    "-eventuality_threshold_to_conceptualize 0 -concept_weight_threshold 0 -concept_topk 5 \\\n",
    "-log_path \"core/aser_pipe.log\""
   ]
  },
  {
   "cell_type": "markdown",
   "metadata": {},
   "source": [
    "Now, you can check the `core`, `full`, and `concept` directories."
   ]
  },
  {
   "cell_type": "markdown",
   "metadata": {},
   "source": [
    "### 2. step-by-step extraction"
   ]
  },
  {
   "cell_type": "markdown",
   "metadata": {},
   "source": [
    "Let's see how to utilize an ASER extractor and a conceptualizer."
   ]
  },
  {
   "cell_type": "code",
   "execution_count": 4,
   "metadata": {},
   "outputs": [
    {
     "name": "stdout",
     "output_type": "stream",
     "text": [
      "I came here for breakfast before a conference, I was excited to try some local breakfast places. I think the highlight of my breakfast was the freshly squeezed orange juice: it was very sweet, natural, and definitely the champion of the day. I ordered the local fresh eggs on ciabatta with the house made sausage. I would have given a four if the bread had been toasted, but it wasnt. The sausage had good flavor, but I would have liked a little salt on my eggs. All in all a good breakfast. If I am back in town I would try the pastries, they looked and smelled amazing.\n"
     ]
    }
   ],
   "source": [
    "text = \"I came here for breakfast before a conference, I was excited to try some local breakfast places. I think the highlight of my breakfast was the freshly squeezed orange juice: it was very sweet, natural, and definitely the champion of the day. I ordered the local fresh eggs on ciabatta with the house made sausage. I would have given a four if the bread had been toasted, but it wasnt. The sausage had good flavor, but I would have liked a little salt on my eggs. All in all a good breakfast. If I am back in town I would try the pastries, they looked and smelled amazing.\"\n",
    "\n",
    "print(text)"
   ]
  },
  {
   "cell_type": "markdown",
   "metadata": {},
   "source": [
    "We provide two kinds of `ASERExtractors`: the `SeedRuleASERExtractor` corresponding to the WWW\"2020 and a new `DiscourseASERExtractor` which is implemented based on a discourse parsing system."
   ]
  },
  {
   "cell_type": "code",
   "execution_count": 17,
   "metadata": {},
   "outputs": [
    {
     "name": "stdout",
     "output_type": "stream",
     "text": [
      "In-order:\n",
      "([[],\n",
      "  [i think, it be very sweet],\n",
      "  [i order, the local fresh egg on ciabatta make sausage],\n",
      "  [i would have give a four, the bread have be toast],\n",
      "  [the sausage have good flavor, i would have like a little salt on egg],\n",
      "  [],\n",
      "  [i be back in town, i would try the pastry, they look, they smell amazing]],\n",
      " [[],\n",
      "  [(010ec054737a144cb77e99954ff032bc5dff472c, 55704c606666f41a73ac5ae0eabe582892aa163c, {'Co_Occurrence': 1.0})],\n",
      "  [(b875a4b94675e057fa643beb334e071e4ddf3760, 41876cb7188cb3398572af71ff9d98d61f46c20b, {'Co_Occurrence': 1.0})],\n",
      "  [(766f00c08dcac14353629c12125f05697eb58a2e, 13bb4ed9f70c37253246c2051ef05fe4795f4fee, {'Co_Occurrence': 1.0, 'Condition': 1.0})],\n",
      "  [(253e8b127b833c3aa7d79e2b91ce030299a646d6, 8dd8fbc06d2810add7b2cfd637a78f90fa2e5e9e, {'Co_Occurrence': 1.0, 'Contrast': 1.0})],\n",
      "  [],\n",
      "  [(dac82e8bc75bd0221e86194e6e3cd607a72aba7e, 2dd66bdf5849fe8d4a28d3355f0fc0a50b7f61e2, {'Co_Occurrence': 1.0}),\n",
      "   (dac82e8bc75bd0221e86194e6e3cd607a72aba7e, a8eec375e86e467cf868a03f64ecd1f9d1fe5fee, {'Co_Occurrence': 1.0}),\n",
      "   (dac82e8bc75bd0221e86194e6e3cd607a72aba7e, 1a18ae76468276b651c178926b380e4e9d607f5e, {'Co_Occurrence': 1.0}),\n",
      "   (2dd66bdf5849fe8d4a28d3355f0fc0a50b7f61e2, a8eec375e86e467cf868a03f64ecd1f9d1fe5fee, {'Co_Occurrence': 1.0}),\n",
      "   (2dd66bdf5849fe8d4a28d3355f0fc0a50b7f61e2, 1a18ae76468276b651c178926b380e4e9d607f5e, {'Co_Occurrence': 1.0}),\n",
      "   (a8eec375e86e467cf868a03f64ecd1f9d1fe5fee, 1a18ae76468276b651c178926b380e4e9d607f5e, {'Co_Occurrence': 1.0}),\n",
      "   (a8eec375e86e467cf868a03f64ecd1f9d1fe5fee, dac82e8bc75bd0221e86194e6e3cd607a72aba7e, {'Condition': 0.25}),\n",
      "   (a8eec375e86e467cf868a03f64ecd1f9d1fe5fee, 2dd66bdf5849fe8d4a28d3355f0fc0a50b7f61e2, {'Condition': 0.25}),\n",
      "   (1a18ae76468276b651c178926b380e4e9d607f5e, dac82e8bc75bd0221e86194e6e3cd607a72aba7e, {'Condition': 0.25}),\n",
      "   (1a18ae76468276b651c178926b380e4e9d607f5e, 2dd66bdf5849fe8d4a28d3355f0fc0a50b7f61e2, {'Condition': 0.25})],\n",
      "  [],\n",
      "  [],\n",
      "  [],\n",
      "  [],\n",
      "  [],\n",
      "  []])\n",
      "--------------------------------------------------------------------------------\n",
      "Out-of-Order:\n",
      "([i think,\n",
      "  the bread have be toast,\n",
      "  they smell amazing,\n",
      "  the sausage have good flavor,\n",
      "  i would try the pastry,\n",
      "  the local fresh egg on ciabatta make sausage,\n",
      "  it be very sweet,\n",
      "  i would have give a four,\n",
      "  i would have like a little salt on egg,\n",
      "  they look,\n",
      "  i order,\n",
      "  i be back in town],\n",
      " [(2dd66bdf5849fe8d4a28d3355f0fc0a50b7f61e2, 1a18ae76468276b651c178926b380e4e9d607f5e, {'Co_Occurrence': 1.0}),\n",
      "  (1a18ae76468276b651c178926b380e4e9d607f5e, dac82e8bc75bd0221e86194e6e3cd607a72aba7e, {'Condition': 0.25}),\n",
      "  (253e8b127b833c3aa7d79e2b91ce030299a646d6, 8dd8fbc06d2810add7b2cfd637a78f90fa2e5e9e, {'Co_Occurrence': 1.0, 'Contrast': 1.0}),\n",
      "  (dac82e8bc75bd0221e86194e6e3cd607a72aba7e, 2dd66bdf5849fe8d4a28d3355f0fc0a50b7f61e2, {'Co_Occurrence': 1.0}),\n",
      "  (dac82e8bc75bd0221e86194e6e3cd607a72aba7e, 1a18ae76468276b651c178926b380e4e9d607f5e, {'Co_Occurrence': 1.0}),\n",
      "  (b875a4b94675e057fa643beb334e071e4ddf3760, 41876cb7188cb3398572af71ff9d98d61f46c20b, {'Co_Occurrence': 1.0}),\n",
      "  (1a18ae76468276b651c178926b380e4e9d607f5e, 2dd66bdf5849fe8d4a28d3355f0fc0a50b7f61e2, {'Condition': 0.25}),\n",
      "  (a8eec375e86e467cf868a03f64ecd1f9d1fe5fee, 2dd66bdf5849fe8d4a28d3355f0fc0a50b7f61e2, {'Condition': 0.25}),\n",
      "  (dac82e8bc75bd0221e86194e6e3cd607a72aba7e, a8eec375e86e467cf868a03f64ecd1f9d1fe5fee, {'Co_Occurrence': 1.0}),\n",
      "  (766f00c08dcac14353629c12125f05697eb58a2e, 13bb4ed9f70c37253246c2051ef05fe4795f4fee, {'Co_Occurrence': 1.0, 'Condition': 1.0}),\n",
      "  (a8eec375e86e467cf868a03f64ecd1f9d1fe5fee, 1a18ae76468276b651c178926b380e4e9d607f5e, {'Co_Occurrence': 1.0}),\n",
      "  (010ec054737a144cb77e99954ff032bc5dff472c, 55704c606666f41a73ac5ae0eabe582892aa163c, {'Co_Occurrence': 1.0}),\n",
      "  (a8eec375e86e467cf868a03f64ecd1f9d1fe5fee, dac82e8bc75bd0221e86194e6e3cd607a72aba7e, {'Condition': 0.25}),\n",
      "  (2dd66bdf5849fe8d4a28d3355f0fc0a50b7f61e2, a8eec375e86e467cf868a03f64ecd1f9d1fe5fee, {'Co_Occurrence': 1.0})])\n"
     ]
    }
   ],
   "source": [
    "from pprint import pprint\n",
    "from aser.extract.aser_extractor import SeedRuleASERExtractor, DiscourseASERExtractor\n",
    "\n",
    "aser_extractor = DiscourseASERExtractor(\n",
    "  corenlp_path=\"stanford-corenlp-3.9.2\", corenlp_port=9000\n",
    ")\n",
    "\n",
    "print(\"In-order:\")\n",
    "pprint(aser_extractor.extract_from_text(text, in_order=True))\n",
    "\n",
    "print(\"-\" * 80)\n",
    "print(\"Out-of-Order:\")\n",
    "results = aser_extractor.extract_from_text(text, in_order=False)\n",
    "pprint(results)\n",
    "\n",
    "eventualities, relations = results"
   ]
  },
  {
   "cell_type": "markdown",
   "metadata": {},
   "source": [
    "As shown above, the `in-order` will keep the sentence order and token order so that it is a nested list. On the contrary, the `out-of-order` will return a set of eventualities and a set of relations."
   ]
  },
  {
   "cell_type": "markdown",
   "metadata": {},
   "source": [
    "Then, we use the conceptualizer based on probase to conceptualize eventualities."
   ]
  },
  {
   "cell_type": "code",
   "execution_count": 16,
   "metadata": {},
   "outputs": [
    {
     "name": "stderr",
     "output_type": "stream",
     "text": [
      "100%|██████████| 12/12 [00:00<00:00, 437.11it/s]"
     ]
    },
    {
     "name": "stdout",
     "output_type": "stream",
     "text": [
      "concepts:\n",
      "[__PERSON__0 think,\n",
      " food toast,\n",
      " carbohydrate toast,\n",
      " item toast,\n",
      " starchy-food toast,\n",
      " product toast,\n",
      " __PERSON__0 smell amazing,\n",
      " meat have flavor,\n",
      " sausage have ingredient,\n",
      " processed-meat have flavor,\n",
      " food have flavor,\n",
      " sausage have additive,\n",
      " sausage have excipients,\n",
      " sausage have factor,\n",
      " sausage have characteristic,\n",
      " meat-product have flavor,\n",
      " item have flavor,\n",
      " meat have ingredient,\n",
      " processed-meat have ingredient,\n",
      " food have ingredient,\n",
      " meat have additive,\n",
      " meat have excipients,\n",
      " meat have factor,\n",
      " processed-meat have additive,\n",
      " meat have characteristic,\n",
      " food have additive,\n",
      " processed-meat have excipients,\n",
      " processed-meat have factor,\n",
      " meat-product have ingredient,\n",
      " food have excipients,\n",
      " item have ingredient,\n",
      " food have factor,\n",
      " processed-meat have characteristic,\n",
      " food have characteristic,\n",
      " meat-product have additive,\n",
      " item have additive,\n",
      " meat-product have excipients,\n",
      " meat-product have factor,\n",
      " item have excipients,\n",
      " item have factor,\n",
      " meat-product have characteristic,\n",
      " item have characteristic,\n",
      " __PERSON__0 try baked-good,\n",
      " __PERSON__0 try food,\n",
      " __PERSON__0 try item,\n",
      " __PERSON__0 try sweet,\n",
      " __PERSON__0 try product,\n",
      " food make sausage,\n",
      " egg make meat,\n",
      " egg make processed-meat,\n",
      " egg make food,\n",
      " animal-product make sausage,\n",
      " egg make meat-product,\n",
      " ingredient make sausage,\n",
      " food make meat,\n",
      " egg make item,\n",
      " item make sausage,\n",
      " protein make sausage,\n",
      " food make processed-meat,\n",
      " food make food,\n",
      " food make meat-product,\n",
      " food make item,\n",
      " animal-product make meat,\n",
      " ingredient make meat,\n",
      " animal-product make processed-meat,\n",
      " item make meat,\n",
      " protein make meat,\n",
      " animal-product make food,\n",
      " ingredient make processed-meat,\n",
      " ingredient make food,\n",
      " item make processed-meat,\n",
      " protein make processed-meat,\n",
      " item make food,\n",
      " protein make food,\n",
      " animal-product make meat-product,\n",
      " animal-product make item,\n",
      " ingredient make meat-product,\n",
      " ingredient make item,\n",
      " item make meat-product,\n",
      " protein make meat-product,\n",
      " item make item,\n",
      " protein make item,\n",
      " it be sweet,\n",
      " __PERSON__0 give __NUMBER__0,\n",
      " __PERSON__0 like inorganic-contaminant,\n",
      " __PERSON__0 like ingredient,\n",
      " __PERSON__0 like seasoning,\n",
      " __PERSON__0 like item,\n",
      " __PERSON__0 like substance,\n",
      " __PERSON__0 look,\n",
      " __PERSON__0 order,\n",
      " __PERSON__0 be area,\n",
      " __PERSON__0 be information,\n",
      " __PERSON__0 be place,\n",
      " __PERSON__0 be location,\n",
      " __PERSON__0 be feature]\n",
      "--------------------------------------------------------------------------------\n",
      "concept_instance_pairs:\n",
      "[(__PERSON__0 think, i think, 1.0),\n",
      " (food toast, the bread have be toast, 0.17291806206742577),\n",
      " (carbohydrate toast, the bread have be toast, 0.047555257870060284),\n",
      " (item toast, the bread have be toast, 0.041638758651484704),\n",
      " (starchy-food toast, the bread have be toast, 0.04085733422638982),\n",
      " (product toast, the bread have be toast, 0.031033712882339807),\n",
      " (__PERSON__0 smell amazing, they smell amazing, 1.0),\n",
      " (meat have flavor, the sausage have good flavor, 0.13801169590643275),\n",
      " (sausage have ingredient, the sausage have good flavor, 0.1330749354005168),\n",
      " (processed-meat have flavor,\n",
      "  the sausage have good flavor,\n",
      "  0.09395711500974659),\n",
      " (food have flavor, the sausage have good flavor, 0.08070175438596491),\n",
      " (sausage have additive, the sausage have good flavor, 0.06847545219638243),\n",
      " (sausage have excipients, the sausage have good flavor, 0.050387596899224806),\n",
      " (sausage have factor, the sausage have good flavor, 0.04909560723514212),\n",
      " (sausage have characteristic,\n",
      "  the sausage have good flavor,\n",
      "  0.040051679586563305),\n",
      " (meat-product have flavor, the sausage have good flavor, 0.03391812865497076),\n",
      " (item have flavor, the sausage have good flavor, 0.030019493177387915),\n",
      " (meat have ingredient, the sausage have good flavor, 0.018365897517264307),\n",
      " (processed-meat have ingredient,\n",
      "  the sausage have good flavor,\n",
      "  0.012503337010340954),\n",
      " (food have ingredient, the sausage have good flavor, 0.010739380751620654),\n",
      " (meat have additive, the sausage have good flavor, 0.009450413285582604),\n",
      " (meat have excipients, the sausage have good flavor, 0.006954077700711728),\n",
      " (meat have factor, the sausage have good flavor, 0.006775768016078094),\n",
      " (processed-meat have additive,\n",
      "  the sausage have good flavor,\n",
      "  0.006433755937359909),\n",
      " (meat have characteristic, the sausage have good flavor, 0.005527600223642655),\n",
      " (food have additive, the sausage have good flavor, 0.005526089124620336),\n",
      " (processed-meat have excipients,\n",
      "  the sausage have good flavor,\n",
      "  0.004734273236925215),\n",
      " (processed-meat have factor,\n",
      "  the sausage have good flavor,\n",
      "  0.004612881615465595),\n",
      " (meat-product have ingredient,\n",
      "  the sausage have good flavor,\n",
      "  0.004513652779666651),\n",
      " (food have excipients, the sausage have good flavor, 0.004066367469060248),\n",
      " (item have ingredient, the sausage have good flavor, 0.0039948421153371515),\n",
      " (food have factor, the sausage have good flavor, 0.003962101636520241),\n",
      " (processed-meat have characteristic,\n",
      "  the sausage have good flavor,\n",
      "  0.003763140265248248),\n",
      " (food have characteristic,\n",
      "  the sausage have good flavor,\n",
      "  0.0032322408087401967),\n",
      " (meat-product have additive,\n",
      "  the sausage have good flavor,\n",
      "  0.002322559197304199),\n",
      " (item have additive, the sausage have good flavor, 0.0020555983700278548),\n",
      " (meat-product have excipients,\n",
      "  the sausage have good flavor,\n",
      "  0.0017090529942427124),\n",
      " (meat-product have factor,\n",
      "  the sausage have good flavor,\n",
      "  0.0016652311225954636),\n",
      " (item have excipients, the sausage have good flavor, 0.0015126101213412515),\n",
      " (item have factor, the sausage have good flavor, 0.0014738252464350657),\n",
      " (meat-product have characteristic,\n",
      "  the sausage have good flavor,\n",
      "  0.00135847802106472),\n",
      " (item have characteristic,\n",
      "  the sausage have good flavor,\n",
      "  0.0012023311220917638),\n",
      " (__PERSON__0 try baked-good, i would try the pastry, 0.29160382101558574),\n",
      " (__PERSON__0 try food, i would try the pastry, 0.10155857214680744),\n",
      " (__PERSON__0 try item, i would try the pastry, 0.026646556058320763),\n",
      " (__PERSON__0 try sweet, i would try the pastry, 0.02262443438914027),\n",
      " (__PERSON__0 try product, i would try the pastry, 0.016591251885369532),\n",
      " (food make sausage,\n",
      "  the local fresh egg on ciabatta make sausage,\n",
      "  0.21908471275559882),\n",
      " (egg make meat,\n",
      "  the local fresh egg on ciabatta make sausage,\n",
      "  0.13801169590643275),\n",
      " (egg make processed-meat,\n",
      "  the local fresh egg on ciabatta make sausage,\n",
      "  0.09395711500974659),\n",
      " (egg make food,\n",
      "  the local fresh egg on ciabatta make sausage,\n",
      "  0.08070175438596491),\n",
      " (animal-product make sausage,\n",
      "  the local fresh egg on ciabatta make sausage,\n",
      "  0.04327599264308125),\n",
      " (egg make meat-product,\n",
      "  the local fresh egg on ciabatta make sausage,\n",
      "  0.03391812865497076),\n",
      " (ingredient make sausage,\n",
      "  the local fresh egg on ciabatta make sausage,\n",
      "  0.03321432435356486),\n",
      " (food make meat,\n",
      "  the local fresh egg on ciabatta make sausage,\n",
      "  0.030236252754573874),\n",
      " (egg make item,\n",
      "  the local fresh egg on ciabatta make sausage,\n",
      "  0.030019493177387915),\n",
      " (item make sausage,\n",
      "  the local fresh egg on ciabatta make sausage,\n",
      "  0.027480255328356594),\n",
      " (protein make sausage,\n",
      "  the local fresh egg on ciabatta make sausage,\n",
      "  0.025749215622633343),\n",
      " (food make processed-meat,\n",
      "  the local fresh egg on ciabatta make sausage,\n",
      "  0.020584567553255093),\n",
      " (food make food,\n",
      "  the local fresh egg on ciabatta make sausage,\n",
      "  0.01768052067852201),\n",
      " (food make meat-product,\n",
      "  the local fresh egg on ciabatta make sausage,\n",
      "  0.0074309434735817135),\n",
      " (food make item,\n",
      "  the local fresh egg on ciabatta make sausage,\n",
      "  0.00657681203983669),\n",
      " (animal-product make meat,\n",
      "  the local fresh egg on ciabatta make sausage,\n",
      "  0.00597259313670595),\n",
      " (ingredient make meat,\n",
      "  the local fresh egg on ciabatta make sausage,\n",
      "  0.004583965232421818),\n",
      " (animal-product make processed-meat,\n",
      "  the local fresh egg on ciabatta make sausage,\n",
      "  0.004066087417926932),\n",
      " (item make meat,\n",
      "  the local fresh egg on ciabatta make sausage,\n",
      "  0.0037925966418082785),\n",
      " (protein make meat,\n",
      "  the local fresh egg on ciabatta make sausage,\n",
      "  0.0035536929163400405),\n",
      " (animal-product make food,\n",
      "  the local fresh egg on ciabatta make sausage,\n",
      "  0.0034924485290907673),\n",
      " (ingredient make processed-meat,\n",
      "  the local fresh egg on ciabatta make sausage,\n",
      "  0.003120722093258921),\n",
      " (ingredient make food,\n",
      "  the local fresh egg on ciabatta make sausage,\n",
      "  0.0026804542460771644),\n",
      " (item make processed-meat,\n",
      "  the local fresh egg on ciabatta make sausage,\n",
      "  0.002581965510383602),\n",
      " (protein make processed-meat,\n",
      "  the local fresh egg on ciabatta make sausage,\n",
      "  0.0024193220136665247),\n",
      " (item make food,\n",
      "  the local fresh egg on ciabatta make sausage,\n",
      "  0.0022177048159726376),\n",
      " (protein make food,\n",
      "  the local fresh egg on ciabatta make sausage,\n",
      "  0.0020780068748090068),\n",
      " (animal-product make meat-product,\n",
      "  the local fresh egg on ciabatta make sausage,\n",
      "  0.0014678406861395978),\n",
      " (animal-product make item,\n",
      "  the local fresh egg on ciabatta make sausage,\n",
      "  0.001299123365893667),\n",
      " (ingredient make meat-product,\n",
      "  the local fresh egg on ciabatta make sausage,\n",
      "  0.0011265677266121413),\n",
      " (ingredient make item,\n",
      "  the local fresh egg on ciabatta make sausage,\n",
      "  0.0009970771833233895),\n",
      " (item make meat-product,\n",
      "  the local fresh egg on ciabatta make sausage,\n",
      "  0.0009320788356986446),\n",
      " (protein make meat-product,\n",
      "  the local fresh egg on ciabatta make sausage,\n",
      "  0.0008733652082530607),\n",
      " (item make item,\n",
      "  the local fresh egg on ciabatta make sausage,\n",
      "  0.0008249433373424787),\n",
      " (protein make item,\n",
      "  the local fresh egg on ciabatta make sausage,\n",
      "  0.0007729784027067319),\n",
      " (it be sweet, it be very sweet, 1.0),\n",
      " (__PERSON__0 give __NUMBER__0, i would have give a four, 1.0),\n",
      " (__PERSON__0 like inorganic-contaminant,\n",
      "  i would have like a little salt on egg,\n",
      "  0.2110783349721403),\n",
      " (__PERSON__0 like ingredient,\n",
      "  i would have like a little salt on egg,\n",
      "  0.06014421501147165),\n",
      " (__PERSON__0 like seasoning,\n",
      "  i would have like a little salt on egg,\n",
      "  0.0429367420517863),\n",
      " (__PERSON__0 like item,\n",
      "  i would have like a little salt on egg,\n",
      "  0.025401507702392658),\n",
      " (__PERSON__0 like substance,\n",
      "  i would have like a little salt on egg,\n",
      "  0.022943297279580464),\n",
      " (__PERSON__0 look, they look, 1.0),\n",
      " (__PERSON__0 order, i order, 1.0),\n",
      " (__PERSON__0 be area, i be back in town, 0.06364922206506365),\n",
      " (__PERSON__0 be information, i be back in town, 0.033946251768033946),\n",
      " (__PERSON__0 be place, i be back in town, 0.03253182461103253),\n",
      " (__PERSON__0 be location, i be back in town, 0.0297029702970297),\n",
      " (__PERSON__0 be feature, i be back in town, 0.026874115983026876)]\n"
     ]
    },
    {
     "name": "stderr",
     "output_type": "stream",
     "text": [
      "\n"
     ]
    }
   ],
   "source": [
    "from aser.conceptualize.aser_conceptualizer import SeedRuleASERConceptualizer, ProbaseASERConceptualizer\n",
    "from aser.conceptualize.utils import conceptualize_eventualities, build_concept_relations\n",
    "\n",
    "aser_conceptualizer = ProbaseASERConceptualizer(\n",
    "  probase_path=\"probase.txt\", probase_topk=5\n",
    ")\n",
    "\n",
    "cid2concept, concept_instance_pairs, cid_to_filter_score = conceptualize_eventualities(\n",
    "  aser_conceptualizer, eventualities\n",
    ")\n",
    "\n",
    "print(\"concepts:\")\n",
    "pprint(list(cid2concept.values()))\n",
    "\n",
    "print(\"-\" * 80)\n",
    "print(\"concept_instance_pairs:\")\n",
    "pprint(concept_instance_pairs)"
   ]
  },
  {
   "cell_type": "markdown",
   "metadata": {},
   "source": [
    "From the conceptualization results, we can find each eventuality would result in multiple concepts. You can use these to make your eventuality representation meaningful."
   ]
  },
  {
   "cell_type": "markdown",
   "metadata": {},
   "source": [
    "we do not show `build_concept_relations` because it requires the concept database. If you are interested, you can use `build_concept_relations(aser.database.kg_connection.ASERConceptConnection, List[aser.relation.Relations])`."
   ]
  },
  {
   "cell_type": "markdown",
   "metadata": {},
   "source": [
    "Do not forget to close your database connections to make the databases available for other processes."
   ]
  },
  {
   "cell_type": "code",
   "execution_count": null,
   "metadata": {},
   "outputs": [],
   "source": [
    "aser_conceptualizer.close()\n",
    "aser_extractor.close()"
   ]
  },
  {
   "cell_type": "markdown",
   "metadata": {},
   "source": [
    "### 3. Client/Server Mode "
   ]
  },
  {
   "cell_type": "markdown",
   "metadata": {},
   "source": [
    "It is interesting to serve a global server to provide extraction, conceptualization, and retrival functions."
   ]
  },
  {
   "cell_type": "markdown",
   "metadata": {},
   "source": [
    "We have done!"
   ]
  },
  {
   "cell_type": "code",
   "execution_count": 2,
   "metadata": {},
   "outputs": [
    {
     "name": "stdout",
     "output_type": "stream",
     "text": [
      "I came here for breakfast before a conference, I was excited to try some local breakfast places. I think the highlight of my breakfast was the freshly squeezed orange juice: it was very sweet, natural, and definitely the champion of the day. I ordered the local fresh eggs on ciabatta with the house made sausage. I would have given a four if the bread had been toasted, but it wasnt. The sausage had good flavor, but I would have liked a little salt on my eggs. All in all a good breakfast. If I am back in town I would try the pastries, they looked and smelled amazing.\n"
     ]
    }
   ],
   "source": [
    "text = \"I came here for breakfast before a conference, I was excited to try some local breakfast places. I think the highlight of my breakfast was the freshly squeezed orange juice: it was very sweet, natural, and definitely the champion of the day. I ordered the local fresh eggs on ciabatta with the house made sausage. I would have given a four if the bread had been toasted, but it wasnt. The sausage had good flavor, but I would have liked a little salt on my eggs. All in all a good breakfast. If I am back in town I would try the pastries, they looked and smelled amazing.\"\n",
    "\n",
    "print(text)"
   ]
  },
  {
   "cell_type": "markdown",
   "metadata": {},
   "source": [
    "Now, start an `ASERServer` and an `ASERClient`."
   ]
  },
  {
   "cell_type": "code",
   "execution_count": 2,
   "metadata": {},
   "outputs": [
    {
     "data": {
      "text/plain": [
       "<subprocess.Popen at 0x7fb09eeecc88>"
      ]
     },
     "execution_count": 2,
     "metadata": {},
     "output_type": "execute_result"
    }
   ],
   "source": [
    "import subprocess\n",
    "\n",
    "cmd = 'aser-server -n_workers 1 -n_concurrent_back_socks 10 \\\n",
    "-port 8000 -port_out 8001 \\\n",
    "-corenlp_path \"stanford-corenlp-3.9.2\" -base_corenlp_port 9000 \\\n",
    "-aser_kg_dir \"core\" -concept_kg_dir \"concept\" -probase_path \"probase.txt\"'\n",
    "\n",
    "subprocess.Popen(cmd, shell=True)"
   ]
  },
  {
   "cell_type": "code",
   "execution_count": 3,
   "metadata": {},
   "outputs": [],
   "source": [
    "from aser.client import ASERClient"
   ]
  },
  {
   "cell_type": "code",
   "execution_count": 4,
   "metadata": {},
   "outputs": [],
   "source": [
    "client = ASERClient(port=8000, port_out=8001)"
   ]
  },
  {
   "cell_type": "markdown",
   "metadata": {},
   "source": [
    "You can try the following methods."
   ]
  },
  {
   "cell_type": "code",
   "execution_count": 5,
   "metadata": {},
   "outputs": [
    {
     "data": {
      "text/plain": [
       "[[],\n",
       " [i think, it be very sweet],\n",
       " [i order, the local fresh egg on ciabatta make sausage],\n",
       " [i would have give a four, the bread have be toast],\n",
       " [the sausage have good flavor, i would have like a little salt on egg],\n",
       " [],\n",
       " [i be back in town, i would try the pastry, they look, they smell amazing]]"
      ]
     },
     "execution_count": 5,
     "metadata": {},
     "output_type": "execute_result"
    }
   ],
   "source": [
    "client.extract_eventualities(text)"
   ]
  },
  {
   "cell_type": "code",
   "execution_count": 17,
   "metadata": {},
   "outputs": [
    {
     "name": "stdout",
     "output_type": "stream",
     "text": [
      "the sausage have good flavor\n",
      "i would have like a little salt on egg\n"
     ]
    }
   ],
   "source": [
    "e1 = client.extract_eventualities(\"The sausage had good flavor.\")[0][0]\n",
    "e2 = client.extract_eventualities(\"I would have liked a little salt on my eggs.\")[0][0]\n",
    "\n",
    "print(e1.__repr__())\n",
    "print(e2.__repr__())"
   ]
  },
  {
   "cell_type": "code",
   "execution_count": 19,
   "metadata": {},
   "outputs": [
    {
     "data": {
      "text/plain": [
       "(253e8b127b833c3aa7d79e2b91ce030299a646d6, 8dd8fbc06d2810add7b2cfd637a78f90fa2e5e9e, {'Contrast': 1.0, 'Co_Occurrence': 1.0})"
      ]
     },
     "execution_count": 19,
     "metadata": {},
     "output_type": "execute_result"
    }
   ],
   "source": [
    "client.predict_eventuality_relation(e1, e2)"
   ]
  },
  {
   "cell_type": "code",
   "execution_count": 8,
   "metadata": {
    "scrolled": false
   },
   "outputs": [
    {
     "data": {
      "text/plain": [
       "[(i would have like a little salt on egg,\n",
       "  (253e8b127b833c3aa7d79e2b91ce030299a646d6, 8dd8fbc06d2810add7b2cfd637a78f90fa2e5e9e, {'Contrast': 1.0, 'Co_Occurrence': 1.0}))]"
      ]
     },
     "execution_count": 8,
     "metadata": {},
     "output_type": "execute_result"
    }
   ],
   "source": [
    "client.fetch_related_eventualities(e1)"
   ]
  },
  {
   "cell_type": "code",
   "execution_count": 12,
   "metadata": {},
   "outputs": [
    {
     "name": "stdout",
     "output_type": "stream",
     "text": [
      "[(meat have flavor, 0.13801169590643275), (sausage have ingredient, 0.1330749354005168), (processed-meat have flavor, 0.09395711500974659), (food have flavor, 0.08070175438596491), (sausage have additive, 0.06847545219638243), (sausage have excipients, 0.050387596899224806), (sausage have factor, 0.04909560723514212), (sausage have characteristic, 0.040051679586563305), (meat-product have flavor, 0.03391812865497076), (item have flavor, 0.030019493177387915), (meat have ingredient, 0.018365897517264307), (processed-meat have ingredient, 0.012503337010340954), (food have ingredient, 0.010739380751620654), (meat have additive, 0.009450413285582604), (meat have excipients, 0.006954077700711728), (meat have factor, 0.006775768016078094), (processed-meat have additive, 0.006433755937359909), (meat have characteristic, 0.005527600223642655), (food have additive, 0.005526089124620336), (processed-meat have excipients, 0.004734273236925215), (processed-meat have factor, 0.004612881615465595), (meat-product have ingredient, 0.004513652779666651), (food have excipients, 0.004066367469060248), (item have ingredient, 0.0039948421153371515), (food have factor, 0.003962101636520241), (processed-meat have characteristic, 0.003763140265248248), (food have characteristic, 0.0032322408087401967), (meat-product have additive, 0.002322559197304199), (item have additive, 0.0020555983700278548), (meat-product have excipients, 0.0017090529942427124), (meat-product have factor, 0.0016652311225954636), (item have excipients, 0.0015126101213412515), (item have factor, 0.0014738252464350657), (meat-product have characteristic, 0.00135847802106472), (item have characteristic, 0.0012023311220917638)]\n"
     ]
    }
   ],
   "source": [
    "concepts = client.conceptualize_eventuality(e1)\n",
    "print(concepts)"
   ]
  },
  {
   "cell_type": "code",
   "execution_count": 18,
   "metadata": {},
   "outputs": [
    {
     "name": "stdout",
     "output_type": "stream",
     "text": [
      "meat have flavor\n",
      "__PERSON__0 like inorganic-contaminant\n"
     ]
    }
   ],
   "source": [
    "c1 = client.conceptualize_eventuality(e1)[0][0]\n",
    "c2 = client.conceptualize_eventuality(e2)[0][0]\n",
    "\n",
    "print(c1.__repr__())\n",
    "print(c2.__repr__())"
   ]
  },
  {
   "cell_type": "code",
   "execution_count": 22,
   "metadata": {},
   "outputs": [
    {
     "data": {
      "text/plain": [
       "(5a49d855f23b29d0a769d638a0944c0d35815ca9, 86e7181b3e449dd70dd9bd0eebcca5b73b432a8c, {'Contrast': 0.02687880595658219, 'Co_Occurrence': 0.02687880595658219})"
      ]
     },
     "execution_count": 22,
     "metadata": {},
     "output_type": "execute_result"
    }
   ],
   "source": [
    "client.predict_concept_relation(c1, c2)"
   ]
  },
  {
   "cell_type": "code",
   "execution_count": 24,
   "metadata": {},
   "outputs": [
    {
     "data": {
      "text/plain": [
       "[(__PERSON__0 like additive,\n",
       "  (5a49d855f23b29d0a769d638a0944c0d35815ca9, 2342e1896c34cac33974473c5b52ac22d7182fe9, {'Contrast': 0.0019171057650086054, 'Co_Occurrence': 0.0019171057650086054})),\n",
       " (__PERSON__0 like item,\n",
       "  (5a49d855f23b29d0a769d638a0944c0d35815ca9, e8809e959614713c0622e23b0ab5dc06e2f2bf46, {'Contrast': 0.0020252501927783217, 'Co_Occurrence': 0.0020252501927783217})),\n",
       " (__PERSON__0 like seasoning,\n",
       "  (5a49d855f23b29d0a769d638a0944c0d35815ca9, 69864d92726be0d4b7f52fd4f32e38ad1f97974e, {'Contrast': 0.002413587001587757, 'Co_Occurrence': 0.002413587001587757})),\n",
       " (__PERSON__0 like ingredient,\n",
       "  (5a49d855f23b29d0a769d638a0944c0d35815ca9, 58004d785a3ee08eac2f51ea4cbc44bba3a1ba22, {'Contrast': 0.003976765548440927, 'Co_Occurrence': 0.003976765548440927})),\n",
       " (__PERSON__0 like inorganic-contaminant,\n",
       "  (5a49d855f23b29d0a769d638a0944c0d35815ca9, 86e7181b3e449dd70dd9bd0eebcca5b73b432a8c, {'Contrast': 0.02687880595658219, 'Co_Occurrence': 0.02687880595658219}))]"
      ]
     },
     "execution_count": 24,
     "metadata": {},
     "output_type": "execute_result"
    }
   ],
   "source": [
    "client.fetch_related_concepts(c1)"
   ]
  },
  {
   "cell_type": "code",
   "execution_count": null,
   "metadata": {},
   "outputs": [],
   "source": []
  },
  {
   "cell_type": "markdown",
   "metadata": {},
   "source": [
    "If you think the ASER knowledge graph is interesting or the extraction and other functions are useful. Please star this repo. Thanks!"
   ]
  }
 ],
 "metadata": {
  "kernelspec": {
   "display_name": "Python 3",
   "language": "python",
   "name": "python3"
  },
  "language_info": {
   "codemirror_mode": {
    "name": "ipython",
    "version": 3
   },
   "file_extension": ".py",
   "mimetype": "text/x-python",
   "name": "python",
   "nbconvert_exporter": "python",
   "pygments_lexer": "ipython3",
   "version": "3.6.13"
  }
 },
 "nbformat": 4,
 "nbformat_minor": 2
}